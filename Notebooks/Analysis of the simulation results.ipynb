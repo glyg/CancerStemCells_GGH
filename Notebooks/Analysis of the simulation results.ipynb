{
 "cells": [
  {
   "cell_type": "markdown",
   "metadata": {},
   "source": [
    "# Analysis of simulation from [CompuCell3D](http://compucell3d.org)"
   ]
  },
  {
   "cell_type": "markdown",
   "metadata": {},
   "source": [
    "### New differentiation model\n",
    "\n",
    "#### Previous work\n",
    "\n",
    "Here is a short reminder of the previous simulation campaign:\n",
    "\n",
    "!['Figure 1'](figure1.svg)\n",
    "\n",
    "In Figure 1 C, mitosis and differentiation are described as a single step process.\n",
    "As a consequence, three probabilities need to be set:\n",
    "\n",
    "- symertric renewal $$P_{sr}$$\n",
    "- asymertric renewal $$P_{ar}$$\n",
    "- symertric differentiation $$P_{sr}$$\n",
    "\n",
    "\n",
    "To lower the number of parameters, we instead considered differentiation and mitosis as\n",
    "two separate processes, both daughter cells being independently tested for differention (Figure 2A bellow).\n",
    "\n",
    "We define the self-renewing probability $$P_s$$ and the differentiating probability $$P_d$$\n",
    "for each daughter cell.\n",
    "\n",
    "#### New model\n",
    "\n",
    "We consider 3 scenarios:\n",
    "\n",
    "- Differentiation is independant from the cells neighborhood\n",
    "- Differentiation depends on the **mother cell** neighborhood **before** division\n",
    "- Differentiation depends on the **daughter cells** neighborhoods **after** division\n",
    "\n",
    "This neighborhood depedence is quantified by stating that the **clustering coefficient** of the cell,\n",
    "as depicted on figure 2B bellow.\n",
    "\n",
    "!['Figure 2'](definitions.svg)\n"
   ]
  },
  {
   "cell_type": "markdown",
   "metadata": {},
   "source": [
    "#### Results "
   ]
  },
  {
   "cell_type": "markdown",
   "metadata": {},
   "source": [
    "![Big Figure](simulation_exploration.svg)"
   ]
  },
  {
   "cell_type": "markdown",
   "metadata": {},
   "source": [
    "## The code to generate those figures is detailed bellow "
   ]
  },
  {
   "cell_type": "markdown",
   "metadata": {},
   "source": [
    "#### Setting the directory containing the data"
   ]
  },
  {
   "cell_type": "code",
   "execution_count": null,
   "metadata": {
    "collapsed": false
   },
   "outputs": [],
   "source": [
    "DATA_ROOT_base = '/home/guillaume/CC3DWorkspace/Sim2_ParameterScan_'\n",
    "suffixes = ['{}_Ps0.7'.format(a) for a in ['none', 'before', 'after']]"
   ]
  },
  {
   "cell_type": "code",
   "execution_count": null,
   "metadata": {
    "collapsed": false
   },
   "outputs": [],
   "source": [
    "import os\n",
    "\n",
    "from cc3d_parser import *\n",
    "from plot_routines import *\n",
    "import matplotlib.pyplot as plt\n",
    "\n",
    "import seaborn as sns\n",
    "\n",
    "%matplotlib inline"
   ]
  },
  {
   "cell_type": "code",
   "execution_count": null,
   "metadata": {
    "collapsed": false
   },
   "outputs": [],
   "source": [
    "collected_tumors = {}\n",
    "\n",
    "for suffix in suffixes:\n",
    "    DATA_ROOT = DATA_ROOT_base + suffix\n",
    "    sim_name = suffix\n",
    "    print(\"Treating  {}\".format(sim_name))\n",
    "    collected_tumors[suffix] = parse_data_dir(DATA_ROOT)\n"
   ]
  },
  {
   "cell_type": "markdown",
   "metadata": {},
   "source": [
    "#### Plotting time evolution"
   ]
  },
  {
   "cell_type": "code",
   "execution_count": null,
   "metadata": {
    "collapsed": false
   },
   "outputs": [],
   "source": [
    "\n",
    "for suffix in suffixes:\n",
    "\n",
    "    tumors = collected_tumors[suffix]\n",
    "    frame_num = -1\n",
    "    dpi = 90\n",
    "\n",
    "    pix_width = 900\n",
    "    pix_height = 300\n",
    "\n",
    "    f_size_i = (pix_width/dpi, pix_height/dpi)\n",
    "\n",
    "    fig, axes = show_type(tumors, frame_num, f_size_i)\n",
    "\n",
    "    plt.savefig('types_{}.svg'.format(suffix))\n",
    "    \n",
    "    pix_width = 800\n",
    "    pix_height = 200\n",
    "\n",
    "    f_size_i = (pix_width/dpi, pix_height/dpi)\n",
    "    fig, axes = show_time_components(tumors, f_size_i)\n",
    "    axes[-1].colormap()\n",
    "    #plt.savefig('evolution_{}.svg'.format(suffix))\n"
   ]
  },
  {
   "cell_type": "code",
   "execution_count": null,
   "metadata": {
    "collapsed": false
   },
   "outputs": [],
   "source": [
    "### Colorbars\n",
    "title = u'Differential adhesion' \n",
    "cmaps = {'csc_cm': (csc_cm, diff_adh,  u'Cancer Stem Cells'), # (Colormap, ticks, cmap_label)\n",
    "         'npc_cm': (npc_cm, diff_adh, u'Non Porliferative Cells')}\n",
    "        \n",
    "plot_color_gradients(cmaps, title)\n",
    "plt.savefig('diff_adh_colorbars.svg')"
   ]
  },
  {
   "cell_type": "markdown",
   "metadata": {},
   "source": [
    "### Agregated data over multiple simulations"
   ]
  },
  {
   "cell_type": "code",
   "execution_count": null,
   "metadata": {
    "collapsed": false
   },
   "outputs": [],
   "source": [
    "collected_data = collect_tumor_data(tumors, collected_tumors, suffixes)"
   ]
  },
  {
   "cell_type": "code",
   "execution_count": null,
   "metadata": {
    "collapsed": false
   },
   "outputs": [],
   "source": [
    "root = os.path.dirname(DATA_ROOT_base)\n",
    "\n",
    "save_collected(collected_data, root)"
   ]
  },
  {
   "cell_type": "code",
   "execution_count": null,
   "metadata": {
    "collapsed": false
   },
   "outputs": [],
   "source": [
    "collected_data = load_collected(root)"
   ]
  },
  {
   "cell_type": "code",
   "execution_count": null,
   "metadata": {
    "collapsed": false,
    "scrolled": true
   },
   "outputs": [],
   "source": [
    "collected_data.head()"
   ]
  },
  {
   "cell_type": "markdown",
   "metadata": {},
   "source": [
    "### Summary plot of the collected data "
   ]
  },
  {
   "cell_type": "code",
   "execution_count": null,
   "metadata": {
    "collapsed": false
   },
   "outputs": [],
   "source": [
    "\n",
    "sim_names = collected_data.sim_name.unique()\n",
    "sim_norm  = matplotlib.colors.Normalize(vmin=0, vmax=len(sim_names))\n",
    "sim_map = plt.cm.ScalarMappable(norm=sim_norm, cmap=sim_cm)\n",
    "\n"
   ]
  },
  {
   "cell_type": "code",
   "execution_count": null,
   "metadata": {
    "collapsed": false,
    "scrolled": true
   },
   "outputs": [],
   "source": [
    "pix_width = 600\n",
    "pix_height = 1024\n",
    "\n",
    "f_size_i = (pix_width/dpi, pix_height/dpi)\n",
    "\n",
    "columns = [\n",
    "    'area_frac',\n",
    "    'clustering_csc',\n",
    "    'clustering_npc',\n",
    "    'csc_frac',\n",
    "    'tumor_size']\n",
    "\n",
    "ylabels = {\n",
    "    'area_frac': 'CSC to NPC area ratio',\n",
    "    'clustering_csc': 'CSC clustering',\n",
    "    'clustering_npc': 'NPC clustering',\n",
    "    'csc_frac': 'Fraction of CSC cells',\n",
    "    'tumor_size': 'CSC final population'\n",
    "    }\n",
    "\n",
    "ylims = {\n",
    "    'area_frac': (1, 2.5),\n",
    "    'clustering_csc': (0, 1.1),\n",
    "    'clustering_npc': (0, 1.1),\n",
    "    'csc_frac': (0, 1.1),\n",
    "    'tumor_size': (0, 2000)\n",
    "    }\n",
    "name_labels = {\n",
    "    'before_Ps0.7': 'Diff. before division',\n",
    "    'after_Ps0.7': 'Diff. after division',\n",
    "    'none_Ps0.7': 'Env. independant division'\n",
    "    }\n",
    "\n",
    "sim_colors = {key: sim_map.to_rgba(i) for i, key \n",
    "              in enumerate(collected_data.sim_name.unique())}\n",
    "\n",
    "\n",
    "\n",
    "fig, axes = plt.subplots(len(columns), 1, sharex=True)\n",
    "fig.set_size_inches(f_size_i)\n",
    "for col, ax in zip(columns, axes):\n",
    "    for key, df in collected_data.groupby('sim_name'):\n",
    "        sns.regplot(data=df, x='diff_adh', y=col, color=sim_colors[key],\n",
    "                    ax=ax, label=name_labels[key])\n",
    "    ax.set_ylabel(ylabels[col])\n",
    "    ax.set_xlabel('')\n",
    "    ax.set_ylim(ylims[col])\n",
    "axes[-1].set_xlabel('Differential adhesion energy')\n",
    "axes[-1].legend(loc='upper left')\n",
    "fig.set_tight_layout(True)\n",
    "plt.savefig('agregated.svg')"
   ]
  }
 ],
 "metadata": {
  "kernelspec": {
   "display_name": "Python 2",
   "language": "python",
   "name": "python2"
  },
  "language_info": {
   "codemirror_mode": {
    "name": "ipython",
    "version": 2
   },
   "file_extension": ".py",
   "mimetype": "text/x-python",
   "name": "python",
   "nbconvert_exporter": "python",
   "pygments_lexer": "ipython2",
   "version": "2.7.10"
  }
 },
 "nbformat": 4,
 "nbformat_minor": 0
}
