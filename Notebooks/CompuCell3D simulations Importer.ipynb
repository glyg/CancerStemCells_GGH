{
 "cells": [
  {
   "cell_type": "markdown",
   "metadata": {},
   "source": [
    "# [CompuCell3D](http://compucell3d.org) in a Jupyter Notebook"
   ]
  },
  {
   "cell_type": "markdown",
   "metadata": {},
   "source": [
    "> CompuCell3D is an open-source simulation environment for multi-cell, single-cell-based modeling of tissues, organs and organisms.\n",
    "\n",
    ">It uses Cellular Potts Model to model cell behavior.\n",
    "\n",
    ">This project is funded by the NIH and EPA.\n",
    "\n",
    ">Compucell3D is led by Maciej Swat (IU), James Glazier(IU) and Roshan D'Souza (U.Wisc. Milwaukee) "
   ]
  },
  {
   "cell_type": "markdown",
   "metadata": {},
   "source": [
    "## Structure of the Simulations directory tree\n",
    "\n",
    "* DATA_ROOT\n",
    "    - ...\n",
    "    - Sim2_cc3d_dd_MM_yyyy_hh_mm_ss\n",
    "        * LatticeData\n",
    "            - vtk_files ... **Here are the data**\n",
    "        * Simulation\n",
    "            - xml & python files ...\n",
    "    \n",
    "    \n",
    "    - ...\n",
    "    \n"
   ]
  },
  {
   "cell_type": "markdown",
   "metadata": {},
   "source": [
    "### Parsing xml and python files\n",
    "\n",
    "This is used for parameters management"
   ]
  },
  {
   "cell_type": "code",
   "execution_count": 17,
   "metadata": {
    "collapsed": false
   },
   "outputs": [],
   "source": [
    "\n",
    "\n",
    "from __future__ import print_function # For py 2.7 compat\n",
    "\n",
    "import ipywidgets as widgets # Widget definitions\n",
    "from IPython.display import display # Used to display widgets in the notebook\n",
    "from traitlets import Unicode # Used to declare attributes of our widget\n",
    "\n"
   ]
  },
  {
   "cell_type": "code",
   "execution_count": null,
   "metadata": {
    "collapsed": true
   },
   "outputs": [],
   "source": [
    "DATA_ROOT = '/home/guillaume/Projets/NeuroBlasts/CancerStemCells_GGH/simulation_data/'\n"
   ]
  },
  {
   "cell_type": "code",
   "execution_count": 2,
   "metadata": {
    "collapsed": false
   },
   "outputs": [
    {
     "name": "stdout",
     "output_type": "stream",
     "text": [
      "***************\n",
      "\n",
      "Using: #5 - /home/guillaume/Projets/NeuroBlasts/CancerStemCells_GGH/simulation_data/Sim2_cc3d_05_07_2015_11_51_27\n",
      "\n",
      "\n",
      "***************\n",
      "**  Energies **\n",
      "\n",
      "(('Medium', 'Differentiated'), 30.0)\n",
      "(('CancerStemCell', 'Differentiated'), 10.0)\n",
      "(('CancerStemCell', 'CancerStemCell'), 5.0)\n",
      "(('Medium', 'CancerStemCell'), 30.0)\n",
      "(('Differentiated', 'Differentiated'), 5.0)\n",
      "(('Medium', 'Medium'), 30.0)\n",
      "\n",
      "***************\n",
      "**  python set variables **\n",
      "\n",
      "('P_sd', 0.19999999999999996)\n",
      "('P_ar', 0.4)\n",
      "('P_sr', 0.4)\n",
      "('growth_rate', 0.1)\n",
      "\n",
      "***************\n",
      "**  VTK files **\n",
      "\n",
      "starts: Step_000000.vtk\n",
      " stops: Step_008400.vtk\n"
     ]
    }
   ],
   "source": [
    "\n",
    "import os\n",
    "from xml.etree import ElementTree\n",
    "\n",
    "\n",
    "\n",
    "\n",
    "\n",
    "\n",
    "folder_num = 5\n",
    "\n",
    "data_dirs = os.listdir(DATA_ROOT)\n",
    "data_dir = os.path.join(DATA_ROOT,\n",
    "                        data_dirs[folder_num])\n",
    "\n",
    "print('***************\\n')\n",
    "print('Using: #{} - {}\\n'.format(folder_num, data_dir))\n",
    "\n",
    "\n",
    "xml_file = os.path.join(data_dir+'/Simulation/Sim2.xml')\n",
    "py_file = os.path.join(data_dir+'/Simulation/Sim2Steppables.py')\n",
    "\n",
    "xml_tree = ElementTree.ElementTree(file=xml_file)\n",
    "xml_root = xml_tree.getroot()\n",
    "\n",
    "for child in xml_root:\n",
    "    \n",
    "    if child.tag == 'Potts':\n",
    "        \n",
    "        steps = int(child.find('Steps').text)\n",
    "        dim = {k: int(v) for k, v \n",
    "               in child.find('Dimensions').items()}\n",
    "\n",
    "    elif child.get('Name') == 'Contact':\n",
    "        energies = child.findall('Energy')\n",
    "        energies = {(energy.attrib['Type1'], energy.attrib['Type2']):\n",
    "                    float(energy.text) for energy in energies}\n",
    "\n",
    "print('\\n***************')\n",
    "print('**  Energies **\\n')\n",
    "\n",
    "for e in energies.items(): \n",
    "    print(e)\n",
    "\n",
    "\n",
    "pysettings = []\n",
    "with open(py_file) as pf:\n",
    "    for line in pf.readlines():\n",
    "        if line.startswith('growth_rate') or line.startswith('P_'):\n",
    "            pysettings.append(line)\n",
    "\n",
    "for l in pysettings:\n",
    "    exec(l)           \n",
    "    \n",
    "\n",
    "pyparams = {'growth_rate':growth_rate,\n",
    "            'P_sr': P_sr,\n",
    "            'P_ar': P_ar,\n",
    "            'P_sd': P_sd}\n",
    "\n",
    "print('\\n***************')\n",
    "print('**  python set variables **\\n')\n",
    "\n",
    "for p in pyparams.items():\n",
    "    print(p)\n",
    "\n",
    "\n",
    "vtk_files = [f for f in os.listdir(os.path.join(data_dir,'LatticeData'))\n",
    "             if f.endswith('.vtk')]\n",
    "\n",
    "vtk_files.sort()\n",
    "\n",
    "print('\\n***************')\n",
    "print('**  VTK files **\\n')\n",
    "print('starts: {}\\n stops: {}'.format(vtk_files[0], vtk_files[-1]))\n"
   ]
  },
  {
   "cell_type": "code",
   "execution_count": 3,
   "metadata": {
    "collapsed": false
   },
   "outputs": [
    {
     "name": "stdout",
     "output_type": "stream",
     "text": [
      "Automatic pdb calling has been turned ON\n"
     ]
    }
   ],
   "source": [
    "%pdb"
   ]
  },
  {
   "cell_type": "code",
   "execution_count": 4,
   "metadata": {
    "collapsed": true
   },
   "outputs": [],
   "source": [
    "import vtk"
   ]
  },
  {
   "cell_type": "code",
   "execution_count": 5,
   "metadata": {
    "collapsed": false
   },
   "outputs": [
    {
     "data": {
      "text/plain": [
       "'Step_000000.vtk'"
      ]
     },
     "execution_count": 5,
     "metadata": {},
     "output_type": "execute_result"
    }
   ],
   "source": [
    "vtk_files[0]"
   ]
  },
  {
   "cell_type": "code",
   "execution_count": 6,
   "metadata": {
    "collapsed": true
   },
   "outputs": [],
   "source": [
    "#include <vtkStructuredPoints.h>\n",
    "#include <vtkStructuredPointsWriter.h>\n",
    "#include <vtkReader.h>\n",
    "#include <vtkPointData.h>"
   ]
  },
  {
   "cell_type": "code",
   "execution_count": 13,
   "metadata": {
    "collapsed": false
   },
   "outputs": [],
   "source": [
    "reader = vtk.vtkStructuredPointsReader()\n",
    "\n",
    "from vtk.util.numpy_support import vtk_to_numpy\n",
    "\n",
    "vtk_fnum = 0\n",
    "#reader = vtkUnstructuredGridReader()\n",
    "reader.SetFileName(vtk_files[vtk_fnum])\n",
    "\n",
    "reader.Update()\n",
    "field_data = reader.GetOutput()\n",
    "cell_type = field_data.GetPointData().GetArray('CellType') ##CellId, ClusterId\n",
    "\n",
    "reader.CloseVTKFile()"
   ]
  },
  {
   "cell_type": "code",
   "execution_count": 14,
   "metadata": {
    "collapsed": true
   },
   "outputs": [],
   "source": [
    "cell_type"
   ]
  },
  {
   "cell_type": "code",
   "execution_count": 8,
   "metadata": {
    "collapsed": false
   },
   "outputs": [],
   "source": [
    "\n",
    "vtk_data = vtkStructuredPoints()\n",
    "\n"
   ]
  },
  {
   "cell_type": "code",
   "execution_count": 9,
   "metadata": {
    "collapsed": false
   },
   "outputs": [
    {
     "name": "stdout",
     "output_type": "stream",
     "text": [
      "Object `point_data.GetArray` not found.\n"
     ]
    }
   ],
   "source": [
    "point_data.GetArray?"
   ]
  },
  {
   "cell_type": "code",
   "execution_count": null,
   "metadata": {
    "collapsed": true
   },
   "outputs": [],
   "source": []
  }
 ],
 "metadata": {
  "kernelspec": {
   "display_name": "Python 2",
   "language": "python",
   "name": "python2"
  },
  "language_info": {
   "codemirror_mode": {
    "name": "ipython",
    "version": 2
   },
   "file_extension": ".py",
   "mimetype": "text/x-python",
   "name": "python",
   "nbconvert_exporter": "python",
   "pygments_lexer": "ipython2",
   "version": "2.7.10"
  }
 },
 "nbformat": 4,
 "nbformat_minor": 0
}
