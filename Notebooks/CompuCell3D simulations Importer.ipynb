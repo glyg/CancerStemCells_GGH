{
 "cells": [
  {
   "cell_type": "markdown",
   "metadata": {},
   "source": [
    "# [CompuCell3D](http://compucell3d.org) in a Jupyter Notebook"
   ]
  },
  {
   "cell_type": "markdown",
   "metadata": {},
   "source": [
    "> CompuCell3D is an open-source simulation environment for multi-cell, single-cell-based modeling of tissues, organs and organisms.\n",
    "\n",
    ">It uses Cellular Potts Model to model cell behavior.\n",
    "\n",
    ">This project is funded by the NIH and EPA.\n",
    "\n",
    ">Compucell3D is led by Maciej Swat (IU), James Glazier(IU) and Roshan D'Souza (U.Wisc. Milwaukee) "
   ]
  },
  {
   "cell_type": "markdown",
   "metadata": {},
   "source": [
    "## Structure of the Simulations directory tree\n",
    "\n",
    "* DATA_ROOT\n",
    "    - ...\n",
    "    - Sim2_cc3d_dd_MM_yyyy_hh_mm_ss\n",
    "        * LatticeData\n",
    "            - vtk_files ... **Here are the data**\n",
    "        * Simulation\n",
    "            - xml & python files ...\n",
    "    \n",
    "    \n",
    "    - ...\n",
    "    \n"
   ]
  },
  {
   "cell_type": "markdown",
   "metadata": {},
   "source": [
    "### Parsing xml and python files\n",
    "\n",
    "This is used for parameters management"
   ]
  },
  {
   "cell_type": "code",
   "execution_count": 1,
   "metadata": {
    "collapsed": false
   },
   "outputs": [],
   "source": [
    "import os\n",
    "from xml.etree import ElementTree\n",
    "import numpy as np\n",
    "import pandas as pd\n",
    "import matplotlib.pylab as plt\n",
    "import vtk\n",
    "from vtk.util.numpy_support import vtk_to_numpy\n",
    "\n",
    "from skimage.filters import rank\n",
    "from skimage.morphology import disk\n",
    "\n",
    "\n",
    "from skimage import filters\n",
    "from skimage.future import graph\n",
    "\n",
    "from skimage import measure\n",
    "from scipy import special"
   ]
  },
  {
   "cell_type": "code",
   "execution_count": 2,
   "metadata": {
    "collapsed": true
   },
   "outputs": [],
   "source": [
    "%matplotlib inline\n"
   ]
  },
  {
   "cell_type": "code",
   "execution_count": 3,
   "metadata": {
    "collapsed": false
   },
   "outputs": [
    {
     "name": "stdout",
     "output_type": "stream",
     "text": [
      "Automatic pdb calling has been turned ON\n"
     ]
    }
   ],
   "source": [
    "%pdb"
   ]
  },
  {
   "cell_type": "code",
   "execution_count": 4,
   "metadata": {
    "collapsed": false
   },
   "outputs": [
    {
     "name": "stdout",
     "output_type": "stream",
     "text": [
      "***************\n",
      "\n",
      "Using: #0 - /home/guillaume/Projets/NeuroBlasts/CC3D_sims/Sim2_cc3d_09_17_2015_15_50_28\n",
      "\n",
      "\n",
      "***************\n",
      "**  Energies **\n",
      "\n",
      "Medium-CancerStemCell: 10.0\n",
      "CancerStemCell-CancerStemCell: 1.0\n",
      "CancerStemCell-NonCancerous: 10.0\n",
      "NonCancerous-NonCancerous: 1.0\n",
      "Medium-Medium: 10.0\n",
      "Medium-NonCancerous: 10.0\n",
      "***************\n",
      "\n",
      "**  python set variables: **\n",
      "params = {\n",
      "    'growth_rate': 1.,\n",
      "    'P_sr': 0.4,\n",
      "    'P_ar': 0.2,\n",
      "    'cell_critical_volume': 50,\n",
      "    'targetVolume': 25,\n",
      "    'lambdaVolume': 10,\n",
      "    'prolif_potential': 4,\n",
      "    }\n",
      "\n",
      "***************\n",
      "**  VTK files **\n",
      "\n",
      "starts: /home/guillaume/Projets/NeuroBlasts/CC3D_sims/Sim2_cc3d_09_17_2015_15_50_28/LatticeData/Step_000.vtk\n",
      " stops: /home/guillaume/Projets/NeuroBlasts/CC3D_sims/Sim2_cc3d_09_17_2015_15_50_28/LatticeData/Step_490.vtk\n"
     ]
    }
   ],
   "source": [
    "# TODO: do a widget for that\n",
    "DATA_ROOT = '/home/guillaume/Projets/NeuroBlasts/CC3D_sims/'\n",
    "\n",
    "folder_num = 0\n",
    "\n",
    "\n",
    "data_dirs = os.listdir(DATA_ROOT)\n",
    "data_dirs = [os.path.join(DATA_ROOT, d) for d in data_dirs]\n",
    "data_dirs = [d for d in data_dirs if os.path.isdir(d)]\n",
    "\n",
    "\n",
    "data_dir = data_dirs[folder_num]\n",
    "\n",
    "print('***************\\n')\n",
    "print('Using: #{} - {}\\n'.format(folder_num, data_dir))\n",
    "\n",
    "def parse_cc3d(data_dir, simname):\n",
    "    \n",
    "    sim_dict = {}\n",
    "    sim_str = []\n",
    "\n",
    "    xml_file = os.path.join(data_dir+'/Simulation/{}.xml'.format(simname))\n",
    "    py_file = os.path.join(data_dir+'/Simulation/{}Steppables.py'.format(simname))\n",
    "\n",
    "    xml_tree = ElementTree.ElementTree(file=xml_file)\n",
    "    xml_root = xml_tree.getroot()\n",
    "\n",
    "    for child in xml_root:\n",
    "\n",
    "        if child.tag == 'Potts':\n",
    "            steps = int(child.find('Steps').text)\n",
    "            dim = {k: int(v) for k, v \n",
    "                   in child.find('Dimensions').items()}\n",
    "            sim_dict['dim'] = dim\n",
    "            sim_dict['steps'] = steps\n",
    "        elif child.get('Name') == 'Contact':\n",
    "            energies = child.findall('Energy')\n",
    "            energies = {'{}-{}'.format(energy.attrib['Type1'],\n",
    "                                       energy.attrib['Type2']):\n",
    "                        float(energy.text) for energy in energies}\n",
    "\n",
    "    sim_dict['energies'] = energies\n",
    "    \n",
    "    sim_str.append('\\n***************')\n",
    "    sim_str.append('**  Energies **\\n')\n",
    "    for k, v in energies.items():\n",
    "        sim_str.append('{}: {}'.format(k, v))\n",
    "    \n",
    "\n",
    "    pysettings = []\n",
    "    \n",
    "    with open(py_file) as pf:\n",
    "        start_parse = False\n",
    "        for line in pf.readlines():\n",
    "            if line.startswith('# <parameter settings>'):\n",
    "                start_parse = True\n",
    "            elif (start_parse \n",
    "                  and not line.startswith('#')\n",
    "                  and len(line) > 3):\n",
    "                pysettings.append(line[:-1])\n",
    "            elif line.startswith('# </parameter settings>'):\n",
    "                break\n",
    "    \n",
    "    \n",
    "    sim_dict['pysettings'] = pysettings\n",
    "    \n",
    "    sim_str.append('***************\\n')\n",
    "    sim_str.append('**  python set variables: **')\n",
    "    for p in pysettings:\n",
    "        sim_str.append(p)\n",
    "\n",
    "    vtk_dir = os.path.join(data_dir,'LatticeData')\n",
    "\n",
    "    vtk_files = [os.path.join(vtk_dir, f) \n",
    "                 for f in os.listdir(vtk_dir)\n",
    "                 if f.endswith('.vtk')]\n",
    "    vtk_files.sort()\n",
    "    sim_dict['vtk_files'] = vtk_files\n",
    "    \n",
    "    sim_str.append('\\n***************')\n",
    "    sim_str.append('**  VTK files **\\n')\n",
    "    sim_str.append('starts: {}\\n stops: {}'.format(vtk_files[0], vtk_files[-1]))\n",
    "    return sim_dict, sim_str\n",
    "\n",
    "sim_dict, sim_str = parse_cc3d(data_dir, simname='Sim2')\n",
    "\n",
    "sim_dict['pysettings']\n",
    "exec(' '.join(sim_dict['pysettings'])) #of course this is unsafe, I know it\n",
    "sim_dict['py_params'] = params.copy()\n",
    "\n",
    "import json\n",
    "with file(data_dir+'.json', 'w') as fp:\n",
    "    json.dump(sim_dict, fp)\n",
    "\n",
    "for l in sim_str: print(l)"
   ]
  },
  {
   "cell_type": "code",
   "execution_count": 5,
   "metadata": {
    "collapsed": false
   },
   "outputs": [],
   "source": [
    "def parse_vtk(vtk_file, sim_dict, data_fields):\n",
    "    \n",
    "    dim = sim_dict['dim']\n",
    "    reader = vtk.vtkStructuredPointsReader()\n",
    "    #reader = vtkUnstructuredGridReader()\n",
    "    reader.SetFileName(vtk_file)\n",
    "    reader.Update()\n",
    "    field_data = reader.GetOutput()\n",
    "    out_data = {}\n",
    "    for data_field in data_fields:\n",
    "        out_data[data_field] = vtk_to_numpy(\n",
    "            field_data.GetPointData().GetArray(data_field)).reshape((dim['x'], dim['y']))\n",
    "    reader.CloseVTKFile()\n",
    "    return out_data    \n",
    "    \n",
    "field_names = ['CellType', 'CellId', 'CellAge'] # 'ClusterId' is not used yet\n",
    "\n",
    "def parse_all_vtks(vtk_files, sim_dict, field_names):\n",
    "    num_steps = len(vtk_files)\n",
    "    dim = sim_dict['dim']\n",
    "    data_fields = {field: np.zeros((num_steps, dim['x'], dim['y']))\n",
    "                   for field in field_names}\n",
    "    step_values = []\n",
    "    for i, vtk_file in enumerate(vtk_files):\n",
    "        step_values.append(int(vtk_file.split('.')[0][-3:]))\n",
    "        frame_data = parse_vtk(vtk_file, sim_dict, field_names)\n",
    "        for key, val in frame_data.items():\n",
    "            data_fields[key][i] = val\n",
    "    return data_fields, np.array(step_values)\n",
    "\n",
    "data_fields, step_values = parse_all_vtks(sim_dict['vtk_files'], sim_dict, field_names)\n"
   ]
  },
  {
   "cell_type": "code",
   "execution_count": 6,
   "metadata": {
    "collapsed": false
   },
   "outputs": [],
   "source": [
    "\n",
    "def get_pix_entropy():\n",
    "    pix_entropy = rank.entropy(cell_type_field.astype(np.uint8), disk(2))\n",
    "\n",
    "    \n",
    "data_fields['PixelEntropy'] = np.array([rank.entropy(cell_type.astype(np.uint8), disk(2))\n",
    "                                       for cell_type in data_fields['CellType']])\n"
   ]
  },
  {
   "cell_type": "code",
   "execution_count": 7,
   "metadata": {
    "collapsed": false
   },
   "outputs": [
    {
     "data": {
      "image/png": "[encoded data removed]",
      "text/plain": [
       "<matplotlib.figure.Figure at 0x7f31d30d2d50>"
      ]
     },
     "metadata": {},
     "output_type": "display_data"
    }
   ],
   "source": [
    "dpi = 90. # pixel per inch \n",
    "pix_width = 800\n",
    "pix_height = 300\n",
    "\n",
    "%matplotlib inline\n",
    "vtk_fnum = 15\n",
    "f_size_i = (pix_width/dpi, pix_height/dpi)\n",
    "\n",
    "\n",
    "fig, axes = plt.subplots(1, len(data_fields))\n",
    "fig.set_size_inches(f_size_i)\n",
    "\n",
    "\n",
    "for ax, (name, field) in zip(axes, data_fields.items()):\n",
    "    ax.imshow(field[vtk_fnum], cmap='hot', origin='lower', interpolation='nearest')\n",
    "    ax.set_title(name, fontdict={'fontsize':12})\n"
   ]
  },
  {
   "cell_type": "code",
   "execution_count": null,
   "metadata": {
    "collapsed": false
   },
   "outputs": [],
   "source": [
    "def get_idxs(data_fields, step_values):\n",
    "    cell_types, cell_ids = data_fields['CellType'], data_fields['CellId']\n",
    "    e_idx = []\n",
    "    v_idx = []\n",
    "    for mcs, cell_type, cell_id in zip(step_values, cell_types, cell_ids):\n",
    "        rag = graph.rag_mean_color(cell_type, cell_id)\n",
    "        direct = [(mcs, s, t) for s, t in rag.edges()]\n",
    "        fliped = [(mcs, t, s) for s, t in rag.edges()]\n",
    "        e_idx.extend(direct + fliped)\n",
    "        v_idx.extend([(mcs, cell_id) for cell_id in rag.nodes()])\n",
    "\n",
    "    e_idx = pd.MultiIndex.from_tuples(e_idx, \n",
    "                                      names=['t', 'srce', 'trgt'])\n",
    "    v_idx = pd.MultiIndex.from_tuples(v_idx, \n",
    "                                      names=['t', 'cell'])\n",
    "    return v_idx, e_idx\n",
    "\n",
    "v_idx, e_idx = get_idxs(data_fields, step_values)"
   ]
  },
  {
   "cell_type": "code",
   "execution_count": null,
   "metadata": {
    "collapsed": false
   },
   "outputs": [],
   "source": [
    "\n",
    "    \n",
    "cell_data = ['type', 'age', 'area', 'cx', 'cy']\n",
    "    \n",
    "cell_df = pd.DataFrame(index=v_idx, columns=cell_data)\n",
    "for i, mcs in enumerate(step_values):\n",
    "    cell_type = data_fields['CellType'][i]\n",
    "    cell_id = data_fields['CellId'][i]\n",
    "    cell_age = data_fields['CellAge'][i]\n",
    "    properties = measure.regionprops(cell_id.astype(np.int))\n",
    "    for p in properties:\n",
    "        lbl = p['label']\n",
    "        cell_df.loc[(mcs, lbl), 'area'] = p['area']\n",
    "        cx, cy = p['centroid']\n",
    "        cell_df.loc[(mcs, lbl), 'cx'] = cx\n",
    "        cell_df.loc[(mcs, lbl), 'cy'] = cy\n",
    "        \n",
    "        cell_df.loc[(mcs, lbl), 'age'] = cell_age[int(cx), int(cy)]\n",
    "        cell_df.loc[(mcs, lbl), 'type'] = cell_type[int(cx), int(cy)]\n",
    "        \n",
    "    "
   ]
  },
  {
   "cell_type": "code",
   "execution_count": null,
   "metadata": {
    "collapsed": false
   },
   "outputs": [],
   "source": [
    "fig, ax = plt.subplots()\n",
    "size = cell_df.age.values.astype(np.float) * 20 + 10\n",
    "ax.scatter(cell_df.cx.values, cell_df.cy.values,\n",
    "           s=size, c=cell_df.type.values, cmap='hot', alpha=0.5);"
   ]
  },
  {
   "cell_type": "code",
   "execution_count": null,
   "metadata": {
    "collapsed": false
   },
   "outputs": [],
   "source": [
    "cell_df.xs(1, level='cell').head()"
   ]
  },
  {
   "cell_type": "code",
   "execution_count": null,
   "metadata": {
    "collapsed": true
   },
   "outputs": [],
   "source": [
    "edge_columns = ['srce_type', 'trgt_type']\n",
    "edge_df = pd.DataFrame(index=e_idx, columns=edge_columns)"
   ]
  },
  {
   "cell_type": "code",
   "execution_count": null,
   "metadata": {
    "collapsed": true
   },
   "outputs": [],
   "source": [
    "t_idx = e_idx.get_level_values(level='t')\n",
    "srce_idx = e_idx.get_level_values(level='srce')\n",
    "trgt_idx = e_idx.get_level_values(level='trgt')\n",
    "\n",
    "srce_idx = pd.MultiIndex.from_arrays([t_idx, srce_idx], names=['t', 'cell'])\n",
    "trgt_idx = pd.MultiIndex.from_arrays([t_idx, trgt_idx], names=['t', 'cell'])\n"
   ]
  },
  {
   "cell_type": "code",
   "execution_count": null,
   "metadata": {
    "collapsed": false
   },
   "outputs": [],
   "source": [
    "edge_df['srce_type'] = cell_df['type'].loc[srce_idx].values\n",
    "edge_df['trgt_type'] = cell_df['type'].loc[trgt_idx].values\n"
   ]
  },
  {
   "cell_type": "code",
   "execution_count": null,
   "metadata": {
    "collapsed": false
   },
   "outputs": [],
   "source": [
    "edge_df['type_diff'] = edge_df.trgt_type == edge_df.srce_type"
   ]
  },
  {
   "cell_type": "code",
   "execution_count": null,
   "metadata": {
    "collapsed": false
   },
   "outputs": [],
   "source": [
    "edge_df = edge_df.drop(0, level='srce')\n",
    "edge_df = edge_df.drop(0, level='trgt')\n"
   ]
  },
  {
   "cell_type": "code",
   "execution_count": null,
   "metadata": {
    "collapsed": false
   },
   "outputs": [],
   "source": [
    "pis = edge_df.type_diff.groupby(level=['t', 'srce']).apply(lambda df: special.binom(df.size, df.sum())/2**df.size)\n",
    "pis.index.names = ['t', 'cell']\n",
    "cell_df['pis'] = pis\n",
    "entropy = - pis * np.log2(pis)\n",
    "cell_df['entropy'] = entropy\n",
    "cell_df.head()"
   ]
  },
  {
   "cell_type": "code",
   "execution_count": null,
   "metadata": {
    "collapsed": false
   },
   "outputs": [],
   "source": [
    "fig, ax = plt.subplots()\n",
    "size = cell_df.age.values.astype(np.float) * 20 + 10\n",
    "ax.scatter(cell_df.cx.values, cell_df.cy.values,\n",
    "           s=size, c=cell_df.entropy.values, cmap='hot', alpha=0.5);"
   ]
  },
  {
   "cell_type": "code",
   "execution_count": null,
   "metadata": {
    "collapsed": false
   },
   "outputs": [],
   "source": [
    "fig, ax = plt.subplots()\n",
    "for idx, cell in cell_df.groupby(level='cell'):\n",
    "    cell.plot(cell.age, ax=ax)\n",
    "    if idx > 10: break"
   ]
  },
  {
   "cell_type": "code",
   "execution_count": null,
   "metadata": {
    "collapsed": false
   },
   "outputs": [],
   "source": [
    "entropy_field = cell_type.copy().astype(np.float)\n",
    "for lbl in v_idx:\n",
    "    entropy_field[cell_id == lbl] = entropy.loc[lbl]\n",
    "\n",
    "entropy_field = entropy_field / entropy_field.max()"
   ]
  },
  {
   "cell_type": "code",
   "execution_count": null,
   "metadata": {
    "collapsed": false
   },
   "outputs": [],
   "source": [
    "fig, axes = plt.subplots(1, 2)\n",
    "axes[0].imshow(cell_type[:100, :100], origin='lower', interpolation='nearest')\n",
    "axes[1].imshow(entropy_field[:100, :100], cmap='hot', origin='lower', interpolation='nearest')"
   ]
  },
  {
   "cell_type": "code",
   "execution_count": null,
   "metadata": {
    "collapsed": false
   },
   "outputs": [],
   "source": [
    "entropy.loc[1:].mean()"
   ]
  },
  {
   "cell_type": "code",
   "execution_count": null,
   "metadata": {
    "collapsed": false
   },
   "outputs": [],
   "source": [
    "axes[1].imshow(entropy_field[:100, :100] * (cell_type[:100, :100] == 1),\n",
    "               cmap='hot', origin='lower', interpolation='nearest')"
   ]
  },
  {
   "cell_type": "code",
   "execution_count": null,
   "metadata": {
    "collapsed": false
   },
   "outputs": [],
   "source": [
    "fig"
   ]
  },
  {
   "cell_type": "code",
   "execution_count": null,
   "metadata": {
    "collapsed": true
   },
   "outputs": [],
   "source": []
  }
 ],
 "metadata": {
  "kernelspec": {
   "display_name": "Python 2",
   "language": "python",
   "name": "python2"
  },
  "language_info": {
   "codemirror_mode": {
    "name": "ipython",
    "version": 2
   },
   "file_extension": ".py",
   "mimetype": "text/x-python",
   "name": "python",
   "nbconvert_exporter": "python",
   "pygments_lexer": "ipython2",
   "version": "2.7.10"
  }
 },
 "nbformat": 4,
 "nbformat_minor": 0
}
